{
 "cells": [
  {
   "cell_type": "markdown",
   "metadata": {},
   "source": [
    "# Excercises 3"
   ]
  },
  {
   "cell_type": "code",
   "execution_count": 5,
   "metadata": {},
   "outputs": [
    {
     "name": "stdout",
     "output_type": "stream",
     "text": [
      "Even\n"
     ]
    }
   ],
   "source": [
    "#6\n",
    "num = int(input('Enter number'))\n",
    "if num%2==0:\n",
    "    print('Even')\n",
    "else: print('Odd')"
   ]
  },
  {
   "cell_type": "code",
   "execution_count": 7,
   "metadata": {},
   "outputs": [
    {
     "name": "stdout",
     "output_type": "stream",
     "text": [
      "yeet\n"
     ]
    }
   ],
   "source": [
    "#3\n",
    "num1 = int(input('Enter first number:'))\n",
    "num2 = int(input('Enter second number:'))\n",
    "choice = int(input('Enter choice:'))\n",
    "if choice == 1:\n",
    "    print('num1+num2={}'.format(num1+num2))\n",
    "elif choice == 2:\n",
    "    print('num1-num2={}'.format(num1-num2))\n",
    "else:\n",
    "    print('yeet')"
   ]
  },
  {
   "cell_type": "code",
   "execution_count": 9,
   "metadata": {},
   "outputs": [
    {
     "name": "stdout",
     "output_type": "stream",
     "text": [
      "Hello, Mrs. Gili Tishler, nice to meet you\n"
     ]
    }
   ],
   "source": [
    "#4\n",
    "first = input('Enter first name:')\n",
    "last = input('Enter last name:')\n",
    "gender = input('Enter gender:')\n",
    "\n",
    "if gender == 'n':\n",
    "    print('Hello, Mr. {} {}, nice to meet you'.format(first, last))\n",
    "else:\n",
    "    print('Hello, Mrs. {} {}, nice to meet you'.format(first, last))"
   ]
  },
  {
   "cell_type": "code",
   "execution_count": 12,
   "metadata": {},
   "outputs": [
    {
     "name": "stdout",
     "output_type": "stream",
     "text": [
      "12.0\n"
     ]
    }
   ],
   "source": [
    "#5\n",
    "print(abs(float(input('Enter number: '))))"
   ]
  },
  {
   "cell_type": "code",
   "execution_count": 15,
   "metadata": {},
   "outputs": [
    {
     "name": "stdout",
     "output_type": "stream",
     "text": [
      "negative\n"
     ]
    }
   ],
   "source": [
    "#1+2\n",
    "num = int(input('Enter number: '))\n",
    "if num>=0:\n",
    "    print('positive')\n",
    "else:\n",
    "    print('negative')"
   ]
  },
  {
   "cell_type": "code",
   "execution_count": null,
   "metadata": {},
   "outputs": [],
   "source": []
  }
 ],
 "metadata": {
  "kernelspec": {
   "display_name": "Python 3",
   "language": "python",
   "name": "python3"
  },
  "language_info": {
   "codemirror_mode": {
    "name": "ipython",
    "version": 3
   },
   "file_extension": ".py",
   "mimetype": "text/x-python",
   "name": "python",
   "nbconvert_exporter": "python",
   "pygments_lexer": "ipython3",
   "version": "3.11.6"
  }
 },
 "nbformat": 4,
 "nbformat_minor": 2
}
