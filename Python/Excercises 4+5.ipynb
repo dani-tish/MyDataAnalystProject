{
 "cells": [
  {
   "cell_type": "markdown",
   "metadata": {},
   "source": [
    "# Excercises 4+5"
   ]
  },
  {
   "cell_type": "code",
   "execution_count": 3,
   "metadata": {},
   "outputs": [
    {
     "name": "stdout",
     "output_type": "stream",
     "text": [
      "negative\n"
     ]
    }
   ],
   "source": [
    "#1\n",
    "num = int(input('Enter number: '))\n",
    "if num>0:\n",
    "    print('positive')\n",
    "elif num<0:\n",
    "    print('negative')\n",
    "else:\n",
    "    print('0')"
   ]
  },
  {
   "cell_type": "code",
   "execution_count": 6,
   "metadata": {},
   "outputs": [
    {
     "name": "stdout",
     "output_type": "stream",
     "text": [
      "B won\n"
     ]
    }
   ],
   "source": [
    "#2\n",
    "a_score = int(input('A scored:'))\n",
    "b_score = int(input('B scored:'))\n",
    "\n",
    "if a_score<b_score:\n",
    "    print('B won')\n",
    "elif a_score>b_score:\n",
    "    print('A won')\n",
    "else:\n",
    "    print('Tie')"
   ]
  },
  {
   "cell_type": "code",
   "execution_count": 19,
   "metadata": {},
   "outputs": [
    {
     "name": "stdout",
     "output_type": "stream",
     "text": [
      "Failed, did not complete all mandatory homework.\n"
     ]
    }
   ],
   "source": [
    "#3\n",
    "mandatory_work = int(input(\"completed all mandatory homework?\"))\n",
    "test_score = int(input(\"Test score?\"))\n",
    "\n",
    "if mandatory_work == 1:\n",
    "    if test_score>=60:\n",
    "        print('Passed course')\n",
    "    else:\n",
    "        print('Failed, test score is {}'.format(test_score))\n",
    "else:\n",
    "    print('Failed, did not complete all mandatory homework.')"
   ]
  },
  {
   "cell_type": "code",
   "execution_count": 2,
   "metadata": {},
   "outputs": [
    {
     "name": "stdout",
     "output_type": "stream",
     "text": [
      "Odd\n"
     ]
    }
   ],
   "source": [
    "#1\n",
    "num = int(input('Enter a number:'))\n",
    "if num%2==0:\n",
    "    print('Even')\n",
    "else:\n",
    "    print('Odd')"
   ]
  },
  {
   "cell_type": "code",
   "execution_count": 10,
   "metadata": {},
   "outputs": [
    {
     "name": "stdout",
     "output_type": "stream",
     "text": [
      "no\n"
     ]
    }
   ],
   "source": [
    "#2\n",
    "num = float(input('Enter a number:'))\n",
    "\n",
    "if 0<=num and num <=1:\n",
    "    print('yes')\n",
    "else:\n",
    "    print('no')"
   ]
  },
  {
   "cell_type": "code",
   "execution_count": 29,
   "metadata": {},
   "outputs": [],
   "source": [
    "#3\n",
    "def num_of_digits(num:int):\n",
    "    num = abs(num)\n",
    "    count=1\n",
    "\n",
    "    while num//10!=0:\n",
    "        count+=1\n",
    "        num=num//10\n",
    "    return count"
   ]
  },
  {
   "cell_type": "code",
   "execution_count": 33,
   "metadata": {},
   "outputs": [
    {
     "name": "stdout",
     "output_type": "stream",
     "text": [
      "Not two digits\n"
     ]
    }
   ],
   "source": [
    "#still 3\n",
    "num = int(input('Enter a number:'))\n",
    "count=num_of_digits(num)\n",
    "if count == 2:\n",
    "    print('Two digits')\n",
    "else:\n",
    "    print('Not two digits')"
   ]
  },
  {
   "cell_type": "code",
   "execution_count": 37,
   "metadata": {},
   "outputs": [
    {
     "name": "stdout",
     "output_type": "stream",
     "text": [
      "Premium is 1092.0\n"
     ]
    }
   ],
   "source": [
    "#4\n",
    "length=int(input('How many years insurance?'))\n",
    "claims=int(input('How many claims?'))\n",
    "base=float(input('How much is premium sum?'))\n",
    "\n",
    "if length>5 and claims<10:\n",
    "    base=base*0.75\n",
    "print('Premium is {}'.format(base))"
   ]
  },
  {
   "cell_type": "code",
   "execution_count": 41,
   "metadata": {},
   "outputs": [
    {
     "name": "stdout",
     "output_type": "stream",
     "text": [
      "Premium is 4258.5\n"
     ]
    }
   ],
   "source": [
    "#5\n",
    "length=int(input('How many years insurance?'))\n",
    "claims=int(input('How many claims?'))\n",
    "base=float(input('How much is premium sum?'))\n",
    "\n",
    "if length>5 or claims<10:\n",
    "    base=base*0.75\n",
    "print('Premium is {}'.format(base))"
   ]
  },
  {
   "cell_type": "code",
   "execution_count": 1,
   "metadata": {},
   "outputs": [],
   "source": [
    "#6\n",
    "def is_leap_year(year:int):\n",
    "    if year%400==0:\n",
    "        return True\n",
    "    else:\n",
    "        if year%4==0 and year%100!=0:\n",
    "            return True\n",
    "        else:\n",
    "            return False"
   ]
  },
  {
   "cell_type": "code",
   "execution_count": 2,
   "metadata": {},
   "outputs": [
    {
     "name": "stdout",
     "output_type": "stream",
     "text": [
      "Not leap year\n"
     ]
    }
   ],
   "source": [
    "year = int(input('Enter year:'))\n",
    "\n",
    "if is_leap_year(year):\n",
    "    print('Leap year')\n",
    "else:\n",
    "    print('Not leap year')"
   ]
  },
  {
   "cell_type": "code",
   "execution_count": 5,
   "metadata": {},
   "outputs": [
    {
     "name": "stdout",
     "output_type": "stream",
     "text": [
      "not triangle\n"
     ]
    }
   ],
   "source": [
    "#7\n",
    "a=int(input('Enter a:'))\n",
    "b=int(input('Enter b:'))\n",
    "c=int(input('Enter c:'))\n",
    "if a<b+c and b<a+c and c<a+b:\n",
    "    print('Triangle')\n",
    "else:\n",
    "    print('not triangle')"
   ]
  },
  {
   "cell_type": "code",
   "execution_count": null,
   "metadata": {},
   "outputs": [],
   "source": []
  }
 ],
 "metadata": {
  "kernelspec": {
   "display_name": "Python 3",
   "language": "python",
   "name": "python3"
  },
  "language_info": {
   "codemirror_mode": {
    "name": "ipython",
    "version": 3
   },
   "file_extension": ".py",
   "mimetype": "text/x-python",
   "name": "python",
   "nbconvert_exporter": "python",
   "pygments_lexer": "ipython3",
   "version": "3.11.6"
  }
 },
 "nbformat": 4,
 "nbformat_minor": 2
}
